{
 "cells": [
  {
   "attachments": {},
   "cell_type": "markdown",
   "metadata": {},
   "source": [
    "# Assignment 1 - Probability, Linear Algebra, Programming"
   ]
  },
  {
   "cell_type": "markdown",
   "metadata": {},
   "source": [
    "# SOLUTIONS"
   ]
  },
  {
   "attachments": {},
   "cell_type": "markdown",
   "metadata": {},
   "source": [
    "## 1"
   ]
  },
  {
   "cell_type": "markdown",
   "metadata": {},
   "source": [
    "**ANSWER**"
   ]
  },
  {
   "cell_type": "markdown",
   "metadata": {},
   "source": [
    "PDFs should integrate to 1 over the domain of the function, which is $(0,2)$ for $f(x)$. So we integrate and solve for $a$:\n",
    "\n",
    "$$\\int_{0}^{2} ax^2 dx=1$$\n",
    "\n",
    "$$\\int_{0}^{2} ax^2 dx= \\frac{a}{3}x^3 \\Big\\lvert_0^2 = \\frac{8}{3}a$$\n",
    "\n",
    "$$a = \\frac{3}{8}$$"
   ]
  },
  {
   "attachments": {},
   "cell_type": "markdown",
   "metadata": {},
   "source": [
    "---\n",
    "\n",
    "## 2"
   ]
  },
  {
   "cell_type": "markdown",
   "metadata": {},
   "source": [
    "**ANSWER**"
   ]
  },
  {
   "cell_type": "markdown",
   "metadata": {},
   "source": [
    "The cumulative distribution function, $F(x)$, of a PDF, $f(x)$, is the integral of the PDF from $0$ to $x$. In this case it's in three parts. For $x\\leq0$, $F(x)=0$; for $(x\\geq3)$, $F(x)=1$. Otherwise, we need to calculate the integral:\n",
    "\n",
    "$$\\int_{0}^{x} \\frac{1}{3} dz = \\frac{1}{3} z \\Big\\lvert_0^x = \\frac{1}{3}x$$\n",
    "\n",
    "Therefore, putting it all together, the CDF is:\n",
    "\n",
    "$$F(x) = \\begin{cases}\n",
    "    0           &     x \\leq 0 \\\\\n",
    "    \\frac{x}{3} & 0 < x < 3 \\\\\n",
    "    1           & 3 \\leq x\n",
    "    \\end{cases}$$"
   ]
  },
  {
   "attachments": {},
   "cell_type": "markdown",
   "metadata": {},
   "source": [
    "---\n",
    "\n",
    "## 3"
   ]
  },
  {
   "cell_type": "markdown",
   "metadata": {},
   "source": [
    "**ANSWER**"
   ]
  },
  {
   "attachments": {},
   "cell_type": "markdown",
   "metadata": {},
   "source": [
    "(a) Expected value:\n",
    "\n",
    "\\begin{equation}\n",
    "\\begin{split}\n",
    "E[x] & = \\int_{-\\infty}^{\\infty} x f(x) dx \\\\\n",
    "     & = \\int_{0}^{3} x \\left(\\frac{1}{3}\\right) dx \\\\\n",
    "     & = \\frac{1}{6}x^2 \\Big\\lvert_0^3 \\\\\n",
    "     & = \\frac{9}{6} \\\\\n",
    "     & = \\frac{3}{2} \\end{split}\n",
    "\\end{equation}\n"
   ]
  },
  {
   "attachments": {},
   "cell_type": "markdown",
   "metadata": {},
   "source": [
    "\n",
    "(b) Variance:\n",
    "\n",
    "We start with the definition of variance, and we realize we already have one of the pieces for computing it, $E[X]$.\n",
    "\n",
    "$$Var(X) = E[(X-E[X])^2] = E[x^2] - E[X]^2$$\n"
   ]
  },
  {
   "attachments": {},
   "cell_type": "markdown",
   "metadata": {},
   "source": [
    "\n",
    "Therefore, we only need to compute $E[X^2]$:\n",
    "\n",
    "\\begin{equation}\n",
    "\\begin{split}\n",
    "E[x^2] & = \\int_{-\\infty}^{\\infty} x^2 f(x) dx \\\\\n",
    "       & = \\int_{0}^{3} x^2 \\left(\\frac{1}{3}\\right) dx \\\\\n",
    "       & = \\frac{1}{9}x^3 \\Big\\lvert_0^3 \\\\\n",
    "       & = \\frac{27}{9} \\\\\n",
    "       & = 3 \\end{split}\n",
    "\\end{equation}\n"
   ]
  },
  {
   "cell_type": "markdown",
   "metadata": {},
   "source": [
    "\n",
    "Lastly, we compute the variance:\n",
    "\n",
    "$$Var(X) = E[x^2] - E[X]^2 = 3 - \\left(\\frac{3}{2}\\right) = \\frac{3}{4}$$"
   ]
  },
  {
   "attachments": {},
   "cell_type": "markdown",
   "metadata": {},
   "source": [
    "---\n",
    "\n",
    "## 4"
   ]
  },
  {
   "cell_type": "markdown",
   "metadata": {},
   "source": [
    "**ANSWER**"
   ]
  },
  {
   "cell_type": "markdown",
   "metadata": {},
   "source": [
    "(a) Mean\n",
    "\n",
    "$$E[X] = \\frac{1}{N} \\displaystyle\\sum_i x_i = \\frac{2+3+10-1-1}{5} = \\frac{13}{5} = 2.6 $$\n",
    "\n",
    "(b) Variance\n",
    "\n",
    "\\begin{equation}\n",
    "\\begin{split}\n",
    "    Var(X) &= E[(X-E[X])^2] \\\\\n",
    "         &= E[(X-(2.6)^2)] \\\\\n",
    "         &= \\frac{1}{N-1} \\displaystyle\\sum_i (x_i-(2.6)^2) \\\\\n",
    "         &= \\frac{(-0.6)^2+(0.4)^2+(7.4)^2+(-3.6)^2+(-3.6)^2}{4} \\\\\n",
    "         &= 20.3 \\end{split}\n",
    "\\end{equation}"
   ]
  },
  {
   "attachments": {},
   "cell_type": "markdown",
   "metadata": {},
   "source": [
    "---\n",
    "\n",
    "# 5\n",
    "\n",
    "(a) The matrix would be the size 2-by-4\n",
    "\n",
    "(b) The transformation would be:\n",
    "$\\mathbf{Ax} = $ \n",
    "\\begin{bmatrix}\n",
    "a_{1,1}x_1 + a_{1,2}x_2 + a_{1,3}x_3 + a_{1,4}x_4 \\\\\n",
    "a_{2,1}x_1 + a_{2,2}x_2 + a_{2,3}x_3 + a_{2,4}x_4\n",
    "\\end{bmatrix}"
   ]
  },
  {
   "attachments": {},
   "cell_type": "markdown",
   "metadata": {},
   "source": [
    "---\n",
    "\n",
    "## 6"
   ]
  },
  {
   "cell_type": "markdown",
   "metadata": {},
   "source": [
    "**ANSWER**"
   ]
  },
  {
   "cell_type": "code",
   "execution_count": 7,
   "metadata": {},
   "outputs": [
    {
     "name": "stdout",
     "output_type": "stream",
     "text": [
      "1. AA: [3 x 3][3 x 3]\n",
      "[[14 25 31]\n",
      " [25 45 56]\n",
      " [31 56 70]]\n",
      "\n",
      "2. AA^T: [3 x 3][3 x 3]\n",
      "[[14 25 31]\n",
      " [25 45 56]\n",
      " [31 56 70]]\n",
      "\n",
      "3. Ab: [3 x 3][3 x 1]\n",
      "[[29]\n",
      " [50]\n",
      " [60]]\n",
      "\n",
      "4. Ab^T: [3 x 3][1 x 3]\n",
      "Shape mismatch - cannot be computed\n",
      "\n",
      "5. bA: [3 x 1][3 x 3]\n",
      "Shape mismatch - cannot be computed\n",
      "\n",
      "6. b^TA: [1 x 3][3 x 3]\n",
      "[[29 50 60]]\n",
      "\n",
      "7. bb: [3 x 1][3 x 1]\n",
      "Shape mismatch - cannot be computed\n",
      "\n",
      "8. b^T b: [1 x 3][3 x 1]\n",
      "[[74]]\n",
      "\n",
      "9. bb^T: [3 x 1][1 x 3]\n",
      "[[ 1 -3 -8]\n",
      " [-3  9 24]\n",
      " [-8 24 64]]\n",
      "\n",
      "10. b + c^T: [3 x 1] + [1 x 3]\n",
      "Shape mismatch - cannot be computed\n",
      "\n",
      "11. b^T b^T: [3 x 1][3 x 1]\n",
      "Shape mismatch - cannot be computed\n",
      "\n",
      "12. A^-1 b: [3 x 3][3 x 1]\n",
      "[[ 6.]\n",
      " [ 4.]\n",
      " [-5.]]\n",
      "\n",
      "13. A o A: [3 x 3] o [3 x 3]\n",
      "[[ 1  4  9]\n",
      " [ 4 16 25]\n",
      " [ 9 25 36]]\n",
      "\n",
      "14. b o c: [3 x 3] o [3 x 3]\n",
      "[[-4]\n",
      " [-9]\n",
      " [48]]\n",
      "\n"
     ]
    }
   ],
   "source": [
    "%matplotlib inline\n",
    "import numpy as np\n",
    "\n",
    "# Begin by creating vectors of each of the above matrices:\n",
    "A = np.array([[1, 2, 3],[2, 4, 5],[3, 5, 6]])\n",
    "b = np.array([-1, 3, 8])[np.newaxis].T\n",
    "c = np.array([4, -3, 6])[np.newaxis].T\n",
    "I = np.identity(3)\n",
    "\n",
    "# 1. AA\n",
    "print('1. AA: [3 x 3][3 x 3]\\n{}\\n'.format( A.dot(A) ))\n",
    "\n",
    "# 2. AA^T\n",
    "print('2. AA^T: [3 x 3][3 x 3]\\n{}\\n'.format( A.dot(A.T) ))\n",
    "\n",
    "# 3. Ab\n",
    "print('3. Ab: [3 x 3][3 x 1]\\n{}\\n'.format( A.dot(b) ))\n",
    "\n",
    "# 4. Ab^T\n",
    "print('4. Ab^T: [3 x 3][1 x 3]\\n{}\\n'.format( 'Shape mismatch - cannot be computed' ))\n",
    "\n",
    "# 5. bA\n",
    "print('5. bA: [3 x 1][3 x 3]\\n{}\\n'.format( 'Shape mismatch - cannot be computed' ))\n",
    "\n",
    "# 6. b^TA\n",
    "print('6. b^TA: [1 x 3][3 x 3]\\n{}\\n'.format( b.T.dot(A) ))\n",
    "\n",
    "# 7. bb\n",
    "print('7. bb: [3 x 1][3 x 1]\\n{}\\n'.format( 'Shape mismatch - cannot be computed' ))\n",
    "\n",
    "# 8. b^T b\n",
    "print('8. b^T b: [1 x 3][3 x 1]\\n{}\\n'.format( b.T.dot(b) ))\n",
    "\n",
    "# 9. bb^T\n",
    "print('9. bb^T: [3 x 1][1 x 3]\\n{}\\n'.format( b.dot(b.T) ))\n",
    "\n",
    "# 10. b + c^T\n",
    "print('10. b + c^T: [3 x 1] + [1 x 3]\\n{}\\n'.format( 'Shape mismatch - cannot be computed' ))\n",
    "\n",
    "# 11. b^T b^T\n",
    "print('11. b^T b^T: [3 x 1][3 x 1]\\n{}\\n'.format( 'Shape mismatch - cannot be computed' ))\n",
    "\n",
    "# 12. A^-1 b\n",
    "print('12. A^-1 b: [3 x 3][3 x 1]\\n{}\\n'.format( np.linalg.inv(A).dot(b) ))\n",
    "\n",
    "# 13. A o A\n",
    "print('13. A o A: [3 x 3] o [3 x 3]\\n{}\\n'.format( A*A ))\n",
    "\n",
    "# 14. b o c \n",
    "print('14. b o c: [3 x 3] o [3 x 3]\\n{}\\n'.format( b*c ))"
   ]
  },
  {
   "attachments": {},
   "cell_type": "markdown",
   "metadata": {},
   "source": [
    "---\n",
    "\n",
    "## 7"
   ]
  },
  {
   "cell_type": "markdown",
   "metadata": {},
   "source": [
    "**ANSWER**"
   ]
  },
  {
   "cell_type": "code",
   "execution_count": 62,
   "metadata": {},
   "outputs": [
    {
     "name": "stdout",
     "output_type": "stream",
     "text": [
      "1.)\n",
      "\n",
      "Eigenvalues:\n",
      "[ 11.34481428  -0.51572947   0.17091519]\n",
      "\n",
      "Eigenvectors:\n",
      "[[-0.32798528 -0.73697623  0.59100905]\n",
      " [-0.59100905 -0.32798528 -0.73697623]\n",
      " [-0.73697623  0.59100905  0.32798528]]\n",
      "\n",
      "2.)\n",
      "\n",
      "Av = \n",
      "[-3.72093206 -6.70488789 -8.36085845]\n",
      "\n",
      "lambda v = \n",
      "[-3.72093206 -6.70488789 -8.36085845]\n",
      "\n",
      "3.)\n",
      "\n",
      "Inner product of eigenvector 0 and 1 = -0.0000\n",
      "Inner product of eigenvector 0 and 2 = -0.0000\n",
      "Inner product of eigenvector 1 and 2 = -0.0000\n"
     ]
    }
   ],
   "source": [
    "import numpy as np\n",
    "\n",
    "A = np.array([[1, 2, 3],[2, 4, 5],[3, 5, 6]])\n",
    "\n",
    "# 1. Calculate the eigenvalues and corresponding eigenvectors\n",
    "eigenvalues, eigenvectors = np.linalg.eig(A)\n",
    "print('1.)\\n')\n",
    "print('Eigenvalues:\\n{}\\n'.format(eigenvalues))\n",
    "print('Eigenvectors:\\n{}\\n'.format(eigenvectors))\n",
    "\n",
    "# 2. Verify that A * v = lambda * v\n",
    "print('2.)\\n')\n",
    "vector = eigenvectors[:,0]\n",
    "value  = eigenvalues[0]\n",
    "Av = A.dot(vector)\n",
    "lambdav = value * vector\n",
    "print('Av = \\n{}\\n'.format(Av))\n",
    "print('lambda v = \\n{}\\n'.format(lambdav))\n",
    "\n",
    "# 3. Show that the eigenvectors are orthogonal to one another\n",
    "#    This is shown by taking the inner products between vectors and demonstrating that they equal zero\n",
    "print('3.)\\n')\n",
    "combinations = [(0,1),(0,2),(1,2)]\n",
    "for (i,comb) in enumerate(combinations):\n",
    "    inner_product = np.inner(eigenvectors[:,comb[0]],eigenvectors[:,comb[1]])\n",
    "    print('Inner product of eigenvector {} and {} = {:.4f}'.format(comb[0],comb[1],inner_product))\n",
    "    "
   ]
  },
  {
   "attachments": {},
   "cell_type": "markdown",
   "metadata": {},
   "source": [
    "---\n",
    "\n",
    "## 8"
   ]
  },
  {
   "cell_type": "markdown",
   "metadata": {},
   "source": [
    "**ANSWER**"
   ]
  },
  {
   "cell_type": "code",
   "execution_count": 1,
   "metadata": {},
   "outputs": [],
   "source": [
    "import pandas as pd\n",
    "\n",
    "egrid = pd.read_excel('./data/a1_egrid2016.xlsx', skiprows=[0])"
   ]
  },
  {
   "cell_type": "markdown",
   "metadata": {},
   "source": [
    "**(a)** Which plant has generated the most energy (measured in MWh)?"
   ]
  },
  {
   "cell_type": "code",
   "execution_count": 2,
   "metadata": {},
   "outputs": [
    {
     "data": {
      "text/plain": [
       "'Palo Verde'"
      ]
     },
     "execution_count": 2,
     "metadata": {},
     "output_type": "execute_result"
    }
   ],
   "source": [
    "egrid.sort_values(by='PLNGENAN', ascending=False)['PNAME'].iloc[0]"
   ]
  },
  {
   "cell_type": "markdown",
   "metadata": {},
   "source": [
    "**(b)** What is the name of the northern-most power plant in the United States?"
   ]
  },
  {
   "cell_type": "code",
   "execution_count": 3,
   "metadata": {},
   "outputs": [
    {
     "data": {
      "text/plain": [
       "'Barrow'"
      ]
     },
     "execution_count": 3,
     "metadata": {},
     "output_type": "execute_result"
    }
   ],
   "source": [
    "egrid.sort_values(by='LAT', ascending=False)['PNAME'].iloc[0]"
   ]
  },
  {
   "cell_type": "markdown",
   "metadata": {},
   "source": [
    "**(c)** What is the state where the northern-most power plant in the United States is located?"
   ]
  },
  {
   "cell_type": "code",
   "execution_count": 4,
   "metadata": {},
   "outputs": [
    {
     "data": {
      "text/plain": [
       "'AK'"
      ]
     },
     "execution_count": 4,
     "metadata": {},
     "output_type": "execute_result"
    }
   ],
   "source": [
    "egrid.sort_values(by='LAT', ascending=False)['PSTATABB'].iloc[0]"
   ]
  },
  {
   "cell_type": "markdown",
   "metadata": {},
   "source": [
    "**(d)** Plot a bar plot showing the amount of energy produced by each fuel type for the plants. The x axis should be the plant primary fuel and the y axis should be generation (in MWh)."
   ]
  },
  {
   "cell_type": "code",
   "execution_count": 5,
   "metadata": {},
   "outputs": [
    {
     "data": {
      "image/png": "[encoded data removed]",
      "text/plain": [
       "<Figure size 640x480 with 1 Axes>"
      ]
     },
     "metadata": {},
     "output_type": "display_data"
    }
   ],
   "source": [
    "import matplotlib.pyplot as plt\n",
    "\n",
    "fuel_type_group = egrid.groupby('PLPRMFL').sum()\n",
    "fuel_and_gen    = fuel_type_group[['PLNGENAN']]\n",
    "\n",
    "fuel_and_gen.plot.bar()\n",
    "plt.ylabel('Generation (MWh)')\n",
    "plt.show()"
   ]
  },
  {
   "cell_type": "markdown",
   "metadata": {},
   "source": [
    "**(e)** From the plot in (d), which fuel for generation produces the most energy (MWh) in the United States?"
   ]
  },
  {
   "cell_type": "code",
   "execution_count": 9,
   "metadata": {},
   "outputs": [
    {
     "data": {
      "text/plain": [
       "'NG'"
      ]
     },
     "execution_count": 9,
     "metadata": {},
     "output_type": "execute_result"
    }
   ],
   "source": [
    "fuel_and_gen[fuel_and_gen['PLNGENAN'] == fuel_and_gen['PLNGENAN'].max()].index[0]"
   ]
  },
  {
   "attachments": {},
   "cell_type": "markdown",
   "metadata": {},
   "source": [
    "---\n",
    "\n",
    "## 9"
   ]
  },
  {
   "cell_type": "markdown",
   "metadata": {},
   "source": [
    "**ANSWER**"
   ]
  },
  {
   "cell_type": "code",
   "execution_count": 3,
   "metadata": {},
   "outputs": [
    {
     "name": "stdout",
     "output_type": "stream",
     "text": [
      "Time [sec] (non-vectorized): 4.6890\n",
      "Time [sec] (vectorized):     0.0042\n",
      "The vectorized code is 1125.3 times faster than the vectorized code\n"
     ]
    }
   ],
   "source": [
    "import numpy as np\n",
    "import time\n",
    "\n",
    "# Generate the random samples\n",
    "x = np.random.randn(10000000)\n",
    "\n",
    "# Compute the sum of squares the non-vectorized way (using a for loop)\n",
    "t0 = time.time()\n",
    "sum_of_squares = 0\n",
    "for value in x:\n",
    "    sum_of_squares += value**2\n",
    "t1 = time.time()\n",
    "time_nonvectorized = t1 - t0  \n",
    "\n",
    "# Compute the sum of squares the vectorized way (using numpy)\n",
    "t0 = time.time()\n",
    "sum_of_squares = np.dot(x,x)\n",
    "t1 = time.time()\n",
    "time_vectorized = t1 - t0\n",
    "\n",
    "print('Time [sec] (non-vectorized): {:0.4f}'.format(time_nonvectorized))\n",
    "print('Time [sec] (vectorized):     {:0.4f}'.format(time_vectorized))\n",
    "print('The vectorized code is {:0.1f} times faster than the vectorized code'.format(time_nonvectorized/time_vectorized))"
   ]
  },
  {
   "attachments": {},
   "cell_type": "markdown",
   "metadata": {},
   "source": [
    "---\n",
    "\n",
    "## 10"
   ]
  },
  {
   "cell_type": "markdown",
   "metadata": {},
   "source": [
    "**ANSWER**"
   ]
  },
  {
   "cell_type": "code",
   "execution_count": 1,
   "metadata": {},
   "outputs": [
    {
     "name": "stdout",
     "output_type": "stream",
     "text": [
      "1.)\n",
      "Examples from x: [2.47298583 1.31857412 2.2424395  0.29926437 2.75314283]\n",
      "\n",
      "2.)\n",
      "x_mean = 1.988\n",
      "x_std  = 0.9943\n",
      "\n",
      "3.)\n"
     ]
    },
    {
     "data": {
      "image/png": "[encoded data removed]",
      "text/plain": [
       "<Figure size 432x288 with 1 Axes>"
      ]
     },
     "metadata": {
      "needs_background": "light"
     },
     "output_type": "display_data"
    },
    {
     "name": "stdout",
     "output_type": "stream",
     "text": [
      "\n",
      "4.)\n",
      "90th percentile = 3.267\n",
      "\n",
      "5.)\n",
      "90th percentile = 4.319\n",
      "\n",
      "6.)\n",
      "Examples from y: [ 4.04422192  3.85535993  0.99711177  1.55658765 -3.88588689]\n",
      "\n",
      "7.)\n"
     ]
    },
    {
     "data": {
      "image/png": "[encoded data removed]",
      "text/plain": [
       "<Figure size 432x288 with 1 Axes>"
      ]
     },
     "metadata": {
      "needs_background": "light"
     },
     "output_type": "display_data"
    },
    {
     "name": "stdout",
     "output_type": "stream",
     "text": [
      "\n",
      "8.)\n",
      "E[XY] = E[X]E[Y] = 0.01241\n"
     ]
    }
   ],
   "source": [
    "import numpy as np\n",
    "import matplotlib.pyplot as plt\n",
    "\n",
    "np.random.seed(12) # This ensures that random numbers will be reproducible\n",
    "\n",
    "# 1. Synthesize data x\n",
    "print('1.)')\n",
    "x = np.random.randn(10000) + 2\n",
    "print('Examples from x: {}'.format(x[0:5]))\n",
    "\n",
    "# 2. Calculate the mean and standard deviation\n",
    "print('\\n2.)')\n",
    "print('x_mean = {:.4}'.format(x.mean()))\n",
    "print('x_std  = {:.4}'.format(x.std()))\n",
    "\n",
    "# 3. Plot a historgram of x with 30 bins\n",
    "print('\\n3.)')\n",
    "plt.hist(x,bins=30)\n",
    "plt.xlabel('x')\n",
    "plt.ylabel('Number of Samples')\n",
    "plt.grid('on')\n",
    "plt.show()\n",
    "\n",
    "# 4. Compute the 90th percentile of x\n",
    "print('\\n4.)')\n",
    "percentile90 = np.percentile(x,90)\n",
    "print('90th percentile = {:.4}'.format(percentile90))\n",
    "\n",
    "# 5. Compute the 99th percentile of x\n",
    "print('\\n5.)')\n",
    "percentile99 = np.percentile(x,99)\n",
    "print('90th percentile = {:.4}'.format(percentile99))\n",
    "\n",
    "# 6. Synthesize the vector y\n",
    "print('\\n6.)')\n",
    "y = 3*np.random.randn(10000)\n",
    "print('Examples from y: {}'.format(y[0:5]))\n",
    "\n",
    "# 7. Plot the histogram of the data in x and y on one plot and compare\n",
    "print('\\n7.)')\n",
    "histx, binsx = np.histogram(x, bins=50, range=(-15, 15))\n",
    "histy, binsy = np.histogram(y, bins=50, range=(-15, 15))\n",
    "centerx = (binsx[:-1] + binsx[1:]) / 2\n",
    "centery = (binsy[:-1] + binsy[1:]) / 2\n",
    "plt.plot(centerx,histx,'r-',label='x')\n",
    "plt.plot(centery,histy,'b-',label='y')\n",
    "plt.xlabel('Values')\n",
    "plt.ylabel('Number of samples')\n",
    "plt.grid('on')\n",
    "plt.show()\n",
    "\n",
    "# 8. Estimate E[XY]\n",
    "# Since X and Y are independent, this is very simple: E[XY] = E[X]E[Y]\n",
    "print('\\n8.)')\n",
    "print('E[XY] = E[X]E[Y] = {:.4}'.format(x.mean() * y.mean()))"
   ]
  },
  {
   "attachments": {},
   "cell_type": "markdown",
   "metadata": {},
   "source": [
    "---\n",
    "\n",
    "## 11"
   ]
  },
  {
   "cell_type": "markdown",
   "metadata": {},
   "source": [
    "**ANSWER**\n",
    "\n",
    "*I, [**your name here**], affirm that I have [**completed the above tutorial / I have previous experience that covers all the content in this tutorial**]*"
   ]
  },
  {
   "attachments": {},
   "cell_type": "markdown",
   "metadata": {},
   "source": [
    "---\n",
    "\n",
    "## 12"
   ]
  },
  {
   "attachments": {},
   "cell_type": "markdown",
   "metadata": {},
   "source": [
    "**ANSWER**\n",
    "\n",
    "See posted sample for guidance on expectations"
   ]
  }
 ],
 "metadata": {
  "kernelspec": {
   "display_name": "base",
   "language": "python",
   "name": "python3"
  },
  "language_info": {
   "codemirror_mode": {
    "name": "ipython",
    "version": 3
   },
   "file_extension": ".py",
   "mimetype": "text/x-python",
   "name": "python",
   "nbconvert_exporter": "python",
   "pygments_lexer": "ipython3",
   "version": "3.6.5 |Anaconda, Inc.| (default, Mar 29 2018, 13:32:41) [MSC v.1900 64 bit (AMD64)]"
  },
  "varInspector": {
   "cols": {
    "lenName": 16,
    "lenType": 16,
    "lenVar": 40
   },
   "kernels_config": {
    "python": {
     "delete_cmd_postfix": "",
     "delete_cmd_prefix": "del ",
     "library": "var_list.py",
     "varRefreshCmd": "print(var_dic_list())"
    },
    "r": {
     "delete_cmd_postfix": ") ",
     "delete_cmd_prefix": "rm(",
     "library": "var_list.r",
     "varRefreshCmd": "cat(var_dic_list()) "
    }
   },
   "position": {
    "height": "643px",
    "left": "1548px",
    "right": "20px",
    "top": "121px",
    "width": "350px"
   },
   "types_to_exclude": [
    "module",
    "function",
    "builtin_function_or_method",
    "instance",
    "_Feature"
   ],
   "window_display": true
  },
  "vscode": {
   "interpreter": {
    "hash": "f54e0b9f92ceb50229b3b7ea26b5d02f05ce8845dd8d997c014a0efede4c9c20"
   }
  }
 },
 "nbformat": 4,
 "nbformat_minor": 2
}
